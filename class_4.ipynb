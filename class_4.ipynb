{
 "cells": [
  {
   "cell_type": "code",
   "execution_count": 3,
   "metadata": {
    "ExecuteTime": {
     "start_time": "2023-04-03T01:44:51.660675Z",
     "end_time": "2023-04-03T01:44:51.794142Z"
    },
    "collapsed": true
   },
   "outputs": [],
   "source": [
    "# MODELO DE MACHINE LEARNING"
   ]
  },
  {
   "cell_type": "code",
   "execution_count": 4,
   "metadata": {
    "ExecuteTime": {
     "start_time": "2023-04-03T01:44:51.669670Z",
     "end_time": "2023-04-03T01:44:51.940984Z"
    }
   },
   "outputs": [],
   "source": [
    "# Importando as bibliotecas"
   ]
  },
  {
   "cell_type": "code",
   "execution_count": 5,
   "metadata": {
    "ExecuteTime": {
     "start_time": "2023-04-03T01:44:51.684331Z",
     "end_time": "2023-04-03T01:44:51.945793Z"
    }
   },
   "outputs": [],
   "source": [
    "import pandas as pd\n",
    "import numpy as np\n",
    "import matplotlib.pyplot as plt\n",
    "import seaborn as sns\n"
   ]
  },
  {
   "cell_type": "code",
   "execution_count": 6,
   "metadata": {
    "ExecuteTime": {
     "start_time": "2023-04-03T01:44:51.698433Z",
     "end_time": "2023-04-03T01:44:51.968784Z"
    }
   },
   "outputs": [],
   "source": [
    "# Importando o dataset"
   ]
  },
  {
   "cell_type": "code",
   "execution_count": 7,
   "outputs": [
    {
     "data": {
      "text/plain": "   DIRECTORIO NOMBRE_LOCALIDAD                                 NOMBRE_ESTRATO  \\\n0   3004368.0          Usaquén  USAQUÉN: Paseo de Los Libertadores + La Uribe   \n1   3004369.0          Usaquén                                        Usaquén   \n2   3004375.0        Chapinero             CHAPINERO: Pardo Rubio + Chapinero   \n3   3004380.0          Usaquén                                     Los Cedros   \n4   3004383.0         Fontibón                      Ciudad Salitre Occidental   \n\n   NVCBP4  NVCBP14A  NVCBP14D  NVCBP14E  NVCBP14G  NVCBP15A  NVCBP15C  ...  \\\n0       1         2         2         2         2         2         2  ...   \n1       1         2         2         2         2         2         2  ...   \n2       2         2         2         2         2         2         1  ...   \n3       1         2         2         2         2         2         2  ...   \n4       1         2         2         2         2         1         2  ...   \n\n   NHCLP5  NHCLP8AB  NHCLP8AE  NHCLP10  NHCLP11  NHCLP29_1A  NHCLP29_1C  \\\n0       1       NaN       NaN        2        2         NaN         NaN   \n1       2       NaN       NaN        3        2         NaN         NaN   \n2       2       NaN       NaN        2        2         NaN         NaN   \n3       1       NaN       NaN        3        2         NaN         NaN   \n4       2       NaN       NaN        2        2         NaN         NaN   \n\n   NHCLP29_1E  NHCLP29_1F  NPCHP4  \n0         NaN         NaN     9.0  \n1         NaN         NaN    11.0  \n2         1.0         NaN    11.0  \n3         NaN         NaN     9.0  \n4         NaN         NaN    11.0  \n\n[5 rows x 55 columns]",
      "text/html": "<div>\n<style scoped>\n    .dataframe tbody tr th:only-of-type {\n        vertical-align: middle;\n    }\n\n    .dataframe tbody tr th {\n        vertical-align: top;\n    }\n\n    .dataframe thead th {\n        text-align: right;\n    }\n</style>\n<table border=\"1\" class=\"dataframe\">\n  <thead>\n    <tr style=\"text-align: right;\">\n      <th></th>\n      <th>DIRECTORIO</th>\n      <th>NOMBRE_LOCALIDAD</th>\n      <th>NOMBRE_ESTRATO</th>\n      <th>NVCBP4</th>\n      <th>NVCBP14A</th>\n      <th>NVCBP14D</th>\n      <th>NVCBP14E</th>\n      <th>NVCBP14G</th>\n      <th>NVCBP15A</th>\n      <th>NVCBP15C</th>\n      <th>...</th>\n      <th>NHCLP5</th>\n      <th>NHCLP8AB</th>\n      <th>NHCLP8AE</th>\n      <th>NHCLP10</th>\n      <th>NHCLP11</th>\n      <th>NHCLP29_1A</th>\n      <th>NHCLP29_1C</th>\n      <th>NHCLP29_1E</th>\n      <th>NHCLP29_1F</th>\n      <th>NPCHP4</th>\n    </tr>\n  </thead>\n  <tbody>\n    <tr>\n      <th>0</th>\n      <td>3004368.0</td>\n      <td>Usaquén</td>\n      <td>USAQUÉN: Paseo de Los Libertadores + La Uribe</td>\n      <td>1</td>\n      <td>2</td>\n      <td>2</td>\n      <td>2</td>\n      <td>2</td>\n      <td>2</td>\n      <td>2</td>\n      <td>...</td>\n      <td>1</td>\n      <td>NaN</td>\n      <td>NaN</td>\n      <td>2</td>\n      <td>2</td>\n      <td>NaN</td>\n      <td>NaN</td>\n      <td>NaN</td>\n      <td>NaN</td>\n      <td>9.0</td>\n    </tr>\n    <tr>\n      <th>1</th>\n      <td>3004369.0</td>\n      <td>Usaquén</td>\n      <td>Usaquén</td>\n      <td>1</td>\n      <td>2</td>\n      <td>2</td>\n      <td>2</td>\n      <td>2</td>\n      <td>2</td>\n      <td>2</td>\n      <td>...</td>\n      <td>2</td>\n      <td>NaN</td>\n      <td>NaN</td>\n      <td>3</td>\n      <td>2</td>\n      <td>NaN</td>\n      <td>NaN</td>\n      <td>NaN</td>\n      <td>NaN</td>\n      <td>11.0</td>\n    </tr>\n    <tr>\n      <th>2</th>\n      <td>3004375.0</td>\n      <td>Chapinero</td>\n      <td>CHAPINERO: Pardo Rubio + Chapinero</td>\n      <td>2</td>\n      <td>2</td>\n      <td>2</td>\n      <td>2</td>\n      <td>2</td>\n      <td>2</td>\n      <td>1</td>\n      <td>...</td>\n      <td>2</td>\n      <td>NaN</td>\n      <td>NaN</td>\n      <td>2</td>\n      <td>2</td>\n      <td>NaN</td>\n      <td>NaN</td>\n      <td>1.0</td>\n      <td>NaN</td>\n      <td>11.0</td>\n    </tr>\n    <tr>\n      <th>3</th>\n      <td>3004380.0</td>\n      <td>Usaquén</td>\n      <td>Los Cedros</td>\n      <td>1</td>\n      <td>2</td>\n      <td>2</td>\n      <td>2</td>\n      <td>2</td>\n      <td>2</td>\n      <td>2</td>\n      <td>...</td>\n      <td>1</td>\n      <td>NaN</td>\n      <td>NaN</td>\n      <td>3</td>\n      <td>2</td>\n      <td>NaN</td>\n      <td>NaN</td>\n      <td>NaN</td>\n      <td>NaN</td>\n      <td>9.0</td>\n    </tr>\n    <tr>\n      <th>4</th>\n      <td>3004383.0</td>\n      <td>Fontibón</td>\n      <td>Ciudad Salitre Occidental</td>\n      <td>1</td>\n      <td>2</td>\n      <td>2</td>\n      <td>2</td>\n      <td>2</td>\n      <td>1</td>\n      <td>2</td>\n      <td>...</td>\n      <td>2</td>\n      <td>NaN</td>\n      <td>NaN</td>\n      <td>2</td>\n      <td>2</td>\n      <td>NaN</td>\n      <td>NaN</td>\n      <td>NaN</td>\n      <td>NaN</td>\n      <td>11.0</td>\n    </tr>\n  </tbody>\n</table>\n<p>5 rows × 55 columns</p>\n</div>"
     },
     "execution_count": 7,
     "metadata": {},
     "output_type": "execute_result"
    }
   ],
   "source": [
    "datos_dane = pd.read_csv('C:\\\\Users\\Omar\\Desktop\\INMERSION\\\\archivos_dane\\datos_dane.csv')\n",
    "datos_dane.head(5)"
   ],
   "metadata": {
    "collapsed": false,
    "ExecuteTime": {
     "start_time": "2023-04-03T01:44:51.715189Z",
     "end_time": "2023-04-03T01:44:52.014745Z"
    }
   }
  },
  {
   "cell_type": "markdown",
   "source": [
    "# ANALISIS DE DATOS EXPLORATORIOS"
   ],
   "metadata": {
    "collapsed": false
   }
  },
  {
   "cell_type": "code",
   "execution_count": 8,
   "outputs": [
    {
     "data": {
      "text/plain": "(9857, 55)"
     },
     "execution_count": 8,
     "metadata": {},
     "output_type": "execute_result"
    }
   ],
   "source": [
    "datos_dane.shape"
   ],
   "metadata": {
    "collapsed": false,
    "ExecuteTime": {
     "start_time": "2023-04-03T01:44:51.878152Z",
     "end_time": "2023-04-03T01:44:52.015746Z"
    }
   }
  },
  {
   "cell_type": "code",
   "execution_count": 9,
   "outputs": [
    {
     "name": "stdout",
     "output_type": "stream",
     "text": [
      "<class 'pandas.core.frame.DataFrame'>\n",
      "RangeIndex: 9857 entries, 0 to 9856\n",
      "Data columns (total 55 columns):\n",
      " #   Column            Non-Null Count  Dtype  \n",
      "---  ------            --------------  -----  \n",
      " 0   DIRECTORIO        9857 non-null   float64\n",
      " 1   NOMBRE_LOCALIDAD  9857 non-null   object \n",
      " 2   NOMBRE_ESTRATO    9857 non-null   object \n",
      " 3   NVCBP4            9857 non-null   int64  \n",
      " 4   NVCBP14A          9857 non-null   int64  \n",
      " 5   NVCBP14D          9857 non-null   int64  \n",
      " 6   NVCBP14E          9857 non-null   int64  \n",
      " 7   NVCBP14G          9857 non-null   int64  \n",
      " 8   NVCBP15A          9857 non-null   int64  \n",
      " 9   NVCBP15C          9857 non-null   int64  \n",
      " 10  NVCBP15F          9857 non-null   int64  \n",
      " 11  NVCBP15G          9857 non-null   int64  \n",
      " 12  NVCBP16A3         9857 non-null   int64  \n",
      " 13  NVCBP16A4         9857 non-null   int64  \n",
      " 14  NPCKP17           9857 non-null   float64\n",
      " 15  NPCKP18           9857 non-null   float64\n",
      " 16  NPCKP23           9558 non-null   float64\n",
      " 17  NPCKP44A          9857 non-null   float64\n",
      " 18  NPCKPN62A         9857 non-null   float64\n",
      " 19  NPCKPN62B         9558 non-null   float64\n",
      " 20  NPCKP64A          9857 non-null   int64  \n",
      " 21  NPCKP64E          9857 non-null   int64  \n",
      " 22  NHCCP3            9857 non-null   float64\n",
      " 23  NHCCP6            9857 non-null   float64\n",
      " 24  NHCCP7            9558 non-null   float64\n",
      " 25  NHCCP8_1          1434 non-null   float64\n",
      " 26  NHCCP8_2          1434 non-null   float64\n",
      " 27  NHCCP8_3          1434 non-null   float64\n",
      " 28  NHCCP8_6          1434 non-null   float64\n",
      " 29  NHCCP8_7          1434 non-null   float64\n",
      " 30  NHCCP8_8          1434 non-null   float64\n",
      " 31  NHCCP8_9          1434 non-null   float64\n",
      " 32  NHCCP9            9558 non-null   float64\n",
      " 33  NHCCP11           9857 non-null   int64  \n",
      " 34  NHCCP11A          1177 non-null   float64\n",
      " 35  NHCCP12           8680 non-null   float64\n",
      " 36  NHCCP41           9857 non-null   int64  \n",
      " 37  NHCCP41A          4987 non-null   float64\n",
      " 38  NHCCP47A          9857 non-null   int64  \n",
      " 39  NHCCP47B          9857 non-null   int64  \n",
      " 40  NHCLP2A           9857 non-null   int64  \n",
      " 41  NHCLP2B           9857 non-null   int64  \n",
      " 42  NHCLP2C           9857 non-null   int64  \n",
      " 43  NHCLP2E           9857 non-null   int64  \n",
      " 44  NHCLP4            9857 non-null   int64  \n",
      " 45  NHCLP5            9857 non-null   int64  \n",
      " 46  NHCLP8AB          288 non-null    float64\n",
      " 47  NHCLP8AE          288 non-null    float64\n",
      " 48  NHCLP10           9857 non-null   int64  \n",
      " 49  NHCLP11           9857 non-null   int64  \n",
      " 50  NHCLP29_1A        410 non-null    float64\n",
      " 51  NHCLP29_1C        143 non-null    float64\n",
      " 52  NHCLP29_1E        1272 non-null   float64\n",
      " 53  NHCLP29_1F        152 non-null    float64\n",
      " 54  NPCHP4            9447 non-null   float64\n",
      "dtypes: float64(28), int64(25), object(2)\n",
      "memory usage: 4.1+ MB\n"
     ]
    }
   ],
   "source": [
    "datos_dane.info()"
   ],
   "metadata": {
    "collapsed": false,
    "ExecuteTime": {
     "start_time": "2023-04-03T01:44:51.891643Z",
     "end_time": "2023-04-03T01:44:52.015746Z"
    }
   }
  },
  {
   "cell_type": "markdown",
   "source": [
    "# DICCIONARIO DE TRADUCCION DE CODIGOS DIRECTORIO"
   ],
   "metadata": {
    "collapsed": false
   }
  },
  {
   "cell_type": "code",
   "execution_count": 10,
   "outputs": [],
   "source": [
    "dic_dane = {\n",
    "       'NVCBP4':'CONJUNTO_CERRADO',\n",
    "       'NVCBP14A':'FABRICAS_CERCA', 'NVCBP14D':'TERMINALES_BUS', 'NVCBP14E':'BARES_DISCO',\n",
    "       'NVCBP14G':'OSCURO_PELIGROSO', 'NVCBP15A':'RUIDO', 'NVCBP15C':'INSEGURIDAD',\n",
    "       'NVCBP15F':'BASURA_INADECUADA', 'NVCBP15G':'INVASION','NVCBP16A3':'MOV_ADULTOS_MAYORES',\n",
    "       'NVCBP16A4':'MOV_NINOS_BEBES',\n",
    "       'NPCKP17':'OCUPACION','NPCKP18':'CONTRATO','NPCKP23':'SALARIO_MES',\n",
    "       'NPCKP44A':'DONDE_TRABAJA', 'NPCKPN62A':'DECLARACION_RENTA',\n",
    "       'NPCKPN62B':'VALOR_DECLARACION', 'NPCKP64A':'PERDIDA_TRABAJO_C19',\n",
    "       'NPCKP64E':'PERDIDA_INGRESOS_C19',\n",
    "       'NHCCP3':'TIENE_ESCRITURA', 'NHCCP6':'ANO_COMPRA', 'NHCCP7':'VALOR_COMPRA', 'NHCCP8_1':'HIPOTECA_CRED_BANCO',\n",
    "       'NHCCP8_2':'OTRO_CRED_BANCO', 'NHCCP8_3':'CRED_FNA', 'NHCCP8_6':'PRESTAMOS_AMIGOS',\n",
    "       'NHCCP8_7':'CESANTIAS', 'NHCCP8_8':'AHORROS', 'NHCCP8_9':'SUBSIDIOS',\n",
    "       'NHCCP9':'CUANTO_PAGARIA_MENSUAL', 'NHCCP11':'PLANES_ADQUIRIR_VIVIENDA',\n",
    "       'NHCCP11A':'MOTIVO_COMPRA', 'NHCCP12':'RAZON_NO_ADQ_VIV', 'NHCCP41':'TIENE_CARRO','NHCCP41A':'CUANTOS_CARROS',\n",
    "       'NHCCP47A':'TIENE_PERROS', 'NHCCP47B':'TIENE_GATOS', 'NHCLP2A':'VICTIMA_ATRACO', 'NHCLP2B':'VICTIMA_HOMICIDIO',\n",
    "       'NHCLP2C':'VICTIMA_PERSECUSION',\n",
    "       'NHCLP2E':'VICTIMA_ACOSO', 'NHCLP4':'COMO_VIVE_ECON', 'NHCLP5':'COMO_NIVEL_VIDA',\n",
    "       'NHCLP8AB':'REACCION_OPORTUNA_POLICIA', 'NHCLP8AE':'COMO_TRANSPORTE_URBANO', 'NHCLP10':'SON_INGRESOS_SUFICIENTES',\n",
    "       'NHCLP11':'SE_CONSIDERA_POBRE', 'NHCLP29_1A':'MED_C19_TRABAJO',\n",
    "       'NHCLP29_1C':'MED_C19_CAMBIO_VIVIENDA', 'NHCLP29_1E':'MED_C19_ENDEUDAMIENTO',\n",
    "       'NHCLP29_1F':'MED_C19_VENTA_BIENES','NPCHP4':'NIVEL_EDUCATIVO'\n",
    "       }"
   ],
   "metadata": {
    "collapsed": false,
    "ExecuteTime": {
     "start_time": "2023-04-03T01:44:51.933990Z",
     "end_time": "2023-04-03T01:44:52.015746Z"
    }
   }
  },
  {
   "cell_type": "code",
   "execution_count": 11,
   "outputs": [
    {
     "data": {
      "text/plain": "Index(['DIRECTORIO', 'NOMBRE_LOCALIDAD', 'NOMBRE_ESTRATO', 'CONJUNTO_CERRADO',\n       'FABRICAS_CERCA', 'TERMINALES_BUS', 'BARES_DISCO', 'OSCURO_PELIGROSO',\n       'RUIDO', 'INSEGURIDAD', 'BASURA_INADECUADA', 'INVASION',\n       'MOV_ADULTOS_MAYORES', 'MOV_NINOS_BEBES', 'OCUPACION', 'CONTRATO',\n       'SALARIO_MES', 'DONDE_TRABAJA', 'DECLARACION_RENTA',\n       'VALOR_DECLARACION', 'PERDIDA_TRABAJO_C19', 'PERDIDA_INGRESOS_C19',\n       'TIENE_ESCRITURA', 'ANO_COMPRA', 'VALOR_COMPRA', 'HIPOTECA_CRED_BANCO',\n       'OTRO_CRED_BANCO', 'CRED_FNA', 'PRESTAMOS_AMIGOS', 'CESANTIAS',\n       'AHORROS', 'SUBSIDIOS', 'CUANTO_PAGARIA_MENSUAL',\n       'PLANES_ADQUIRIR_VIVIENDA', 'MOTIVO_COMPRA', 'RAZON_NO_ADQ_VIV',\n       'TIENE_CARRO', 'CUANTOS_CARROS', 'TIENE_PERROS', 'TIENE_GATOS',\n       'VICTIMA_ATRACO', 'VICTIMA_HOMICIDIO', 'VICTIMA_PERSECUSION',\n       'VICTIMA_ACOSO', 'COMO_VIVE_ECON', 'COMO_NIVEL_VIDA',\n       'REACCION_OPORTUNA_POLICIA', 'COMO_TRANSPORTE_URBANO',\n       'SON_INGRESOS_SUFICIENTES', 'SE_CONSIDERA_POBRE', 'MED_C19_TRABAJO',\n       'MED_C19_CAMBIO_VIVIENDA', 'MED_C19_ENDEUDAMIENTO',\n       'MED_C19_VENTA_BIENES', 'NIVEL_EDUCATIVO'],\n      dtype='object')"
     },
     "execution_count": 11,
     "metadata": {},
     "output_type": "execute_result"
    }
   ],
   "source": [
    "datos_dane = datos_dane.rename(columns=dic_dane)\n",
    "datos_dane.columns"
   ],
   "metadata": {
    "collapsed": false,
    "ExecuteTime": {
     "start_time": "2023-04-03T01:44:51.951795Z",
     "end_time": "2023-04-03T01:44:52.117722Z"
    }
   }
  },
  {
   "cell_type": "markdown",
   "source": [
    "# VERIFICAMOS COLUMNAS"
   ],
   "metadata": {
    "collapsed": false
   }
  },
  {
   "cell_type": "code",
   "execution_count": 12,
   "outputs": [
    {
     "name": "stdout",
     "output_type": "stream",
     "text": [
      "<class 'pandas.core.frame.DataFrame'>\n",
      "RangeIndex: 9857 entries, 0 to 9856\n",
      "Data columns (total 55 columns):\n",
      " #   Column                     Non-Null Count  Dtype  \n",
      "---  ------                     --------------  -----  \n",
      " 0   DIRECTORIO                 9857 non-null   float64\n",
      " 1   NOMBRE_LOCALIDAD           9857 non-null   object \n",
      " 2   NOMBRE_ESTRATO             9857 non-null   object \n",
      " 3   CONJUNTO_CERRADO           9857 non-null   int64  \n",
      " 4   FABRICAS_CERCA             9857 non-null   int64  \n",
      " 5   TERMINALES_BUS             9857 non-null   int64  \n",
      " 6   BARES_DISCO                9857 non-null   int64  \n",
      " 7   OSCURO_PELIGROSO           9857 non-null   int64  \n",
      " 8   RUIDO                      9857 non-null   int64  \n",
      " 9   INSEGURIDAD                9857 non-null   int64  \n",
      " 10  BASURA_INADECUADA          9857 non-null   int64  \n",
      " 11  INVASION                   9857 non-null   int64  \n",
      " 12  MOV_ADULTOS_MAYORES        9857 non-null   int64  \n",
      " 13  MOV_NINOS_BEBES            9857 non-null   int64  \n",
      " 14  OCUPACION                  9857 non-null   float64\n",
      " 15  CONTRATO                   9857 non-null   float64\n",
      " 16  SALARIO_MES                9558 non-null   float64\n",
      " 17  DONDE_TRABAJA              9857 non-null   float64\n",
      " 18  DECLARACION_RENTA          9857 non-null   float64\n",
      " 19  VALOR_DECLARACION          9558 non-null   float64\n",
      " 20  PERDIDA_TRABAJO_C19        9857 non-null   int64  \n",
      " 21  PERDIDA_INGRESOS_C19       9857 non-null   int64  \n",
      " 22  TIENE_ESCRITURA            9857 non-null   float64\n",
      " 23  ANO_COMPRA                 9857 non-null   float64\n",
      " 24  VALOR_COMPRA               9558 non-null   float64\n",
      " 25  HIPOTECA_CRED_BANCO        1434 non-null   float64\n",
      " 26  OTRO_CRED_BANCO            1434 non-null   float64\n",
      " 27  CRED_FNA                   1434 non-null   float64\n",
      " 28  PRESTAMOS_AMIGOS           1434 non-null   float64\n",
      " 29  CESANTIAS                  1434 non-null   float64\n",
      " 30  AHORROS                    1434 non-null   float64\n",
      " 31  SUBSIDIOS                  1434 non-null   float64\n",
      " 32  CUANTO_PAGARIA_MENSUAL     9558 non-null   float64\n",
      " 33  PLANES_ADQUIRIR_VIVIENDA   9857 non-null   int64  \n",
      " 34  MOTIVO_COMPRA              1177 non-null   float64\n",
      " 35  RAZON_NO_ADQ_VIV           8680 non-null   float64\n",
      " 36  TIENE_CARRO                9857 non-null   int64  \n",
      " 37  CUANTOS_CARROS             4987 non-null   float64\n",
      " 38  TIENE_PERROS               9857 non-null   int64  \n",
      " 39  TIENE_GATOS                9857 non-null   int64  \n",
      " 40  VICTIMA_ATRACO             9857 non-null   int64  \n",
      " 41  VICTIMA_HOMICIDIO          9857 non-null   int64  \n",
      " 42  VICTIMA_PERSECUSION        9857 non-null   int64  \n",
      " 43  VICTIMA_ACOSO              9857 non-null   int64  \n",
      " 44  COMO_VIVE_ECON             9857 non-null   int64  \n",
      " 45  COMO_NIVEL_VIDA            9857 non-null   int64  \n",
      " 46  REACCION_OPORTUNA_POLICIA  288 non-null    float64\n",
      " 47  COMO_TRANSPORTE_URBANO     288 non-null    float64\n",
      " 48  SON_INGRESOS_SUFICIENTES   9857 non-null   int64  \n",
      " 49  SE_CONSIDERA_POBRE         9857 non-null   int64  \n",
      " 50  MED_C19_TRABAJO            410 non-null    float64\n",
      " 51  MED_C19_CAMBIO_VIVIENDA    143 non-null    float64\n",
      " 52  MED_C19_ENDEUDAMIENTO      1272 non-null   float64\n",
      " 53  MED_C19_VENTA_BIENES       152 non-null    float64\n",
      " 54  NIVEL_EDUCATIVO            9447 non-null   float64\n",
      "dtypes: float64(28), int64(25), object(2)\n",
      "memory usage: 4.1+ MB\n"
     ]
    }
   ],
   "source": [
    "datos_dane.info()"
   ],
   "metadata": {
    "collapsed": false,
    "ExecuteTime": {
     "start_time": "2023-04-03T01:44:51.968784Z",
     "end_time": "2023-04-03T01:44:52.118715Z"
    }
   }
  },
  {
   "cell_type": "markdown",
   "source": [
    "# CALCULO DEL PROMEDIO DE ALGUNAS VARIABLES"
   ],
   "metadata": {
    "collapsed": false
   }
  },
  {
   "cell_type": "code",
   "execution_count": 13,
   "outputs": [
    {
     "data": {
      "text/plain": "                                                  CONJUNTO_CERRADO  \\\nNOMBRE_ESTRATO                                                       \n20 de Julio                                               1.893333   \nAméricas                                                  1.383178   \nApogeo                                                    1.650794   \nArborizadora                                              1.430108   \nBARRIOS UNIDOS: Parque Salitre + Doce de Octubre          1.367347   \n\n                                                  INSEGURIDAD  TERMINALES_BUS  \\\nNOMBRE_ESTRATO                                                                  \n20 de Julio                                          1.186667        1.853333   \nAméricas                                             1.252336        1.981308   \nApogeo                                               1.301587        1.746032   \nArborizadora                                         1.301075        1.946237   \nBARRIOS UNIDOS: Parque Salitre + Doce de Octubre     1.326531        1.989796   \n\n                                                  BARES_DISCO     RUIDO  \\\nNOMBRE_ESTRATO                                                            \n20 de Julio                                          1.893333  1.560000   \nAméricas                                             1.785047  1.607477   \nApogeo                                               1.936508  1.682540   \nArborizadora                                         1.881720  1.688172   \nBARRIOS UNIDOS: Parque Salitre + Doce de Octubre     1.979592  1.704082   \n\n                                                  OSCURO_PELIGROSO  \\\nNOMBRE_ESTRATO                                                       \n20 de Julio                                               1.840000   \nAméricas                                                  1.915888   \nApogeo                                                    2.000000   \nArborizadora                                              1.838710   \nBARRIOS UNIDOS: Parque Salitre + Doce de Octubre          1.867347   \n\n                                                   SALARIO_MES  \\\nNOMBRE_ESTRATO                                                   \n20 de Julio                                       1.493860e+06   \nAméricas                                          2.672138e+06   \nApogeo                                            1.837583e+06   \nArborizadora                                      1.802297e+06   \nBARRIOS UNIDOS: Parque Salitre + Doce de Octubre  2.943731e+06   \n\n                                                  TIENE_ESCRITURA  \\\nNOMBRE_ESTRATO                                                      \n20 de Julio                                              1.160000   \nAméricas                                                 1.056075   \nApogeo                                                   1.079365   \nArborizadora                                             1.032258   \nBARRIOS UNIDOS: Parque Salitre + Doce de Octubre         1.051020   \n\n                                                  PERDIDA_TRABAJO_C19  \\\nNOMBRE_ESTRATO                                                          \n20 de Julio                                                  1.920000   \nAméricas                                                     1.971963   \nApogeo                                                       1.920635   \nArborizadora                                                 1.881720   \nBARRIOS UNIDOS: Parque Salitre + Doce de Octubre             1.948980   \n\n                                                  PERDIDA_INGRESOS_C19  \\\nNOMBRE_ESTRATO                                                           \n20 de Julio                                                   1.680000   \nAméricas                                                      1.719626   \nApogeo                                                        1.650794   \nArborizadora                                                  1.612903   \nBARRIOS UNIDOS: Parque Salitre + Doce de Octubre              1.704082   \n\n                                                  PLANES_ADQUIRIR_VIVIENDA  \nNOMBRE_ESTRATO                                                              \n20 de Julio                                                       1.800000  \nAméricas                                                          1.850467  \nApogeo                                                            1.920635  \nArborizadora                                                      1.817204  \nBARRIOS UNIDOS: Parque Salitre + Doce de Octubre                  1.938776  ",
      "text/html": "<div>\n<style scoped>\n    .dataframe tbody tr th:only-of-type {\n        vertical-align: middle;\n    }\n\n    .dataframe tbody tr th {\n        vertical-align: top;\n    }\n\n    .dataframe thead th {\n        text-align: right;\n    }\n</style>\n<table border=\"1\" class=\"dataframe\">\n  <thead>\n    <tr style=\"text-align: right;\">\n      <th></th>\n      <th>CONJUNTO_CERRADO</th>\n      <th>INSEGURIDAD</th>\n      <th>TERMINALES_BUS</th>\n      <th>BARES_DISCO</th>\n      <th>RUIDO</th>\n      <th>OSCURO_PELIGROSO</th>\n      <th>SALARIO_MES</th>\n      <th>TIENE_ESCRITURA</th>\n      <th>PERDIDA_TRABAJO_C19</th>\n      <th>PERDIDA_INGRESOS_C19</th>\n      <th>PLANES_ADQUIRIR_VIVIENDA</th>\n    </tr>\n    <tr>\n      <th>NOMBRE_ESTRATO</th>\n      <th></th>\n      <th></th>\n      <th></th>\n      <th></th>\n      <th></th>\n      <th></th>\n      <th></th>\n      <th></th>\n      <th></th>\n      <th></th>\n      <th></th>\n    </tr>\n  </thead>\n  <tbody>\n    <tr>\n      <th>20 de Julio</th>\n      <td>1.893333</td>\n      <td>1.186667</td>\n      <td>1.853333</td>\n      <td>1.893333</td>\n      <td>1.560000</td>\n      <td>1.840000</td>\n      <td>1.493860e+06</td>\n      <td>1.160000</td>\n      <td>1.920000</td>\n      <td>1.680000</td>\n      <td>1.800000</td>\n    </tr>\n    <tr>\n      <th>Américas</th>\n      <td>1.383178</td>\n      <td>1.252336</td>\n      <td>1.981308</td>\n      <td>1.785047</td>\n      <td>1.607477</td>\n      <td>1.915888</td>\n      <td>2.672138e+06</td>\n      <td>1.056075</td>\n      <td>1.971963</td>\n      <td>1.719626</td>\n      <td>1.850467</td>\n    </tr>\n    <tr>\n      <th>Apogeo</th>\n      <td>1.650794</td>\n      <td>1.301587</td>\n      <td>1.746032</td>\n      <td>1.936508</td>\n      <td>1.682540</td>\n      <td>2.000000</td>\n      <td>1.837583e+06</td>\n      <td>1.079365</td>\n      <td>1.920635</td>\n      <td>1.650794</td>\n      <td>1.920635</td>\n    </tr>\n    <tr>\n      <th>Arborizadora</th>\n      <td>1.430108</td>\n      <td>1.301075</td>\n      <td>1.946237</td>\n      <td>1.881720</td>\n      <td>1.688172</td>\n      <td>1.838710</td>\n      <td>1.802297e+06</td>\n      <td>1.032258</td>\n      <td>1.881720</td>\n      <td>1.612903</td>\n      <td>1.817204</td>\n    </tr>\n    <tr>\n      <th>BARRIOS UNIDOS: Parque Salitre + Doce de Octubre</th>\n      <td>1.367347</td>\n      <td>1.326531</td>\n      <td>1.989796</td>\n      <td>1.979592</td>\n      <td>1.704082</td>\n      <td>1.867347</td>\n      <td>2.943731e+06</td>\n      <td>1.051020</td>\n      <td>1.948980</td>\n      <td>1.704082</td>\n      <td>1.938776</td>\n    </tr>\n  </tbody>\n</table>\n</div>"
     },
     "execution_count": 13,
     "metadata": {},
     "output_type": "execute_result"
    }
   ],
   "source": [
    "datos_dane.groupby('NOMBRE_ESTRATO' )[['CONJUNTO_CERRADO','INSEGURIDAD','TERMINALES_BUS','BARES_DISCO','RUIDO','OSCURO_PELIGROSO','SALARIO_MES','TIENE_ESCRITURA','PERDIDA_TRABAJO_C19','PERDIDA_INGRESOS_C19','PLANES_ADQUIRIR_VIVIENDA']].mean().head()\n",
    "\n"
   ],
   "metadata": {
    "collapsed": false,
    "ExecuteTime": {
     "start_time": "2023-04-03T01:44:52.003753Z",
     "end_time": "2023-04-03T01:44:52.169729Z"
    }
   }
  },
  {
   "cell_type": "markdown",
   "source": [
    "# TRANSFORMAR EN BINARIO LAS VARIABLES"
   ],
   "metadata": {
    "collapsed": false
   }
  },
  {
   "cell_type": "code",
   "execution_count": 14,
   "outputs": [],
   "source": [
    "datos = datos_dane[['NOMBRE_ESTRATO','CONJUNTO_CERRADO','INSEGURIDAD','TERMINALES_BUS','BARES_DISCO','RUIDO','OSCURO_PELIGROSO','SALARIO_MES','TIENE_ESCRITURA','PERDIDA_TRABAJO_C19','PERDIDA_INGRESOS_C19','PLANES_ADQUIRIR_VIVIENDA']].replace(2 , 0).head()\n"
   ],
   "metadata": {
    "collapsed": false,
    "ExecuteTime": {
     "start_time": "2023-04-03T01:44:52.042357Z",
     "end_time": "2023-04-03T01:44:52.196713Z"
    }
   }
  },
  {
   "cell_type": "code",
   "execution_count": 15,
   "outputs": [
    {
     "data": {
      "text/plain": "                                  NOMBRE_ESTRATO  CONJUNTO_CERRADO  \\\n0  USAQUÉN: Paseo de Los Libertadores + La Uribe                 1   \n1                                        Usaquén                 1   \n2             CHAPINERO: Pardo Rubio + Chapinero                 0   \n3                                     Los Cedros                 1   \n4                      Ciudad Salitre Occidental                 1   \n\n   INSEGURIDAD  TERMINALES_BUS  BARES_DISCO  RUIDO  OSCURO_PELIGROSO  \\\n0            0               0            0      0                 0   \n1            0               0            0      0                 0   \n2            1               0            0      0                 0   \n3            0               0            0      0                 0   \n4            0               0            0      1                 0   \n\n   SALARIO_MES  TIENE_ESCRITURA  PERDIDA_TRABAJO_C19  PERDIDA_INGRESOS_C19  \\\n0         99.0              1.0                    0                     0   \n1   10000000.0              1.0                    0                     0   \n2    4000000.0              1.0                    0                     1   \n3    5000000.0              1.0                    0                     1   \n4    3500000.0              1.0                    0                     1   \n\n   PLANES_ADQUIRIR_VIVIENDA  \n0                         0  \n1                         0  \n2                         0  \n3                         0  \n4                         1  ",
      "text/html": "<div>\n<style scoped>\n    .dataframe tbody tr th:only-of-type {\n        vertical-align: middle;\n    }\n\n    .dataframe tbody tr th {\n        vertical-align: top;\n    }\n\n    .dataframe thead th {\n        text-align: right;\n    }\n</style>\n<table border=\"1\" class=\"dataframe\">\n  <thead>\n    <tr style=\"text-align: right;\">\n      <th></th>\n      <th>NOMBRE_ESTRATO</th>\n      <th>CONJUNTO_CERRADO</th>\n      <th>INSEGURIDAD</th>\n      <th>TERMINALES_BUS</th>\n      <th>BARES_DISCO</th>\n      <th>RUIDO</th>\n      <th>OSCURO_PELIGROSO</th>\n      <th>SALARIO_MES</th>\n      <th>TIENE_ESCRITURA</th>\n      <th>PERDIDA_TRABAJO_C19</th>\n      <th>PERDIDA_INGRESOS_C19</th>\n      <th>PLANES_ADQUIRIR_VIVIENDA</th>\n    </tr>\n  </thead>\n  <tbody>\n    <tr>\n      <th>0</th>\n      <td>USAQUÉN: Paseo de Los Libertadores + La Uribe</td>\n      <td>1</td>\n      <td>0</td>\n      <td>0</td>\n      <td>0</td>\n      <td>0</td>\n      <td>0</td>\n      <td>99.0</td>\n      <td>1.0</td>\n      <td>0</td>\n      <td>0</td>\n      <td>0</td>\n    </tr>\n    <tr>\n      <th>1</th>\n      <td>Usaquén</td>\n      <td>1</td>\n      <td>0</td>\n      <td>0</td>\n      <td>0</td>\n      <td>0</td>\n      <td>0</td>\n      <td>10000000.0</td>\n      <td>1.0</td>\n      <td>0</td>\n      <td>0</td>\n      <td>0</td>\n    </tr>\n    <tr>\n      <th>2</th>\n      <td>CHAPINERO: Pardo Rubio + Chapinero</td>\n      <td>0</td>\n      <td>1</td>\n      <td>0</td>\n      <td>0</td>\n      <td>0</td>\n      <td>0</td>\n      <td>4000000.0</td>\n      <td>1.0</td>\n      <td>0</td>\n      <td>1</td>\n      <td>0</td>\n    </tr>\n    <tr>\n      <th>3</th>\n      <td>Los Cedros</td>\n      <td>1</td>\n      <td>0</td>\n      <td>0</td>\n      <td>0</td>\n      <td>0</td>\n      <td>0</td>\n      <td>5000000.0</td>\n      <td>1.0</td>\n      <td>0</td>\n      <td>1</td>\n      <td>0</td>\n    </tr>\n    <tr>\n      <th>4</th>\n      <td>Ciudad Salitre Occidental</td>\n      <td>1</td>\n      <td>0</td>\n      <td>0</td>\n      <td>0</td>\n      <td>1</td>\n      <td>0</td>\n      <td>3500000.0</td>\n      <td>1.0</td>\n      <td>0</td>\n      <td>1</td>\n      <td>1</td>\n    </tr>\n  </tbody>\n</table>\n</div>"
     },
     "execution_count": 15,
     "metadata": {},
     "output_type": "execute_result"
    }
   ],
   "source": [
    "datos.head()"
   ],
   "metadata": {
    "collapsed": false,
    "ExecuteTime": {
     "start_time": "2023-04-03T01:44:52.056202Z",
     "end_time": "2023-04-03T01:44:52.197711Z"
    }
   }
  },
  {
   "cell_type": "code",
   "execution_count": 15,
   "outputs": [],
   "source": [],
   "metadata": {
    "collapsed": false,
    "ExecuteTime": {
     "start_time": "2023-04-03T01:44:52.079228Z",
     "end_time": "2023-04-03T01:44:52.197711Z"
    }
   }
  }
 ],
 "metadata": {
  "kernelspec": {
   "display_name": "Python 3 (ipykernel)",
   "language": "python",
   "name": "python3"
  },
  "language_info": {
   "codemirror_mode": {
    "name": "ipython",
    "version": 3
   },
   "file_extension": ".py",
   "mimetype": "text/x-python",
   "name": "python",
   "nbconvert_exporter": "python",
   "pygments_lexer": "ipython3",
   "version": "3.11.2"
  }
 },
 "nbformat": 4,
 "nbformat_minor": 1
}
