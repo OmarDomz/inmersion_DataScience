{
 "cells": [
  {
   "cell_type": "code",
   "execution_count": 2,
   "metadata": {
    "ExecuteTime": {
     "end_time": "2023-04-03T00:53:28.098570Z",
     "start_time": "2023-04-03T00:53:27.926313Z"
    },
    "collapsed": true
   },
   "outputs": [],
   "source": [
    "import pandas as pd\n",
    "import numpy as np\n",
    "import matplotlib.pyplot as plt\n",
    "import seaborn as sns\n"
   ]
  },
  {
   "cell_type": "markdown",
   "metadata": {},
   "source": [
    "# Data"
   ]
  },
  {
   "cell_type": "code",
   "execution_count": 3,
   "metadata": {
    "ExecuteTime": {
     "end_time": "2023-04-03T00:53:28.362523Z",
     "start_time": "2023-04-03T00:53:27.940668Z"
    }
   },
   "outputs": [
    {
     "data": {
      "text/html": [
       "<div>\n",
       "<style scoped>\n",
       "    .dataframe tbody tr th:only-of-type {\n",
       "        vertical-align: middle;\n",
       "    }\n",
       "\n",
       "    .dataframe tbody tr th {\n",
       "        vertical-align: top;\n",
       "    }\n",
       "\n",
       "    .dataframe thead th {\n",
       "        text-align: right;\n",
       "    }\n",
       "</style>\n",
       "<table border=\"1\" class=\"dataframe\">\n",
       "  <thead>\n",
       "    <tr style=\"text-align: right;\">\n",
       "      <th></th>\n",
       "      <th>DIRECTORIO</th>\n",
       "      <th>DPTO</th>\n",
       "      <th>MPIO</th>\n",
       "      <th>CLASE</th>\n",
       "      <th>COD_LOCALIDAD</th>\n",
       "      <th>NOMBRE_LOCALIDAD</th>\n",
       "      <th>COD_UPZ_GRUPO</th>\n",
       "      <th>NOMBRE_UPZ_GRUPO</th>\n",
       "      <th>ESTRATO2021</th>\n",
       "      <th>NOMBRE_ESTRATO</th>\n",
       "      <th>FEX_C</th>\n",
       "    </tr>\n",
       "  </thead>\n",
       "  <tbody>\n",
       "    <tr>\n",
       "      <th>105735</th>\n",
       "      <td>3003588.0</td>\n",
       "      <td>11</td>\n",
       "      <td>11001</td>\n",
       "      <td>1</td>\n",
       "      <td>13.0</td>\n",
       "      <td>Teusaquillo</td>\n",
       "      <td>100.0</td>\n",
       "      <td>Galerías</td>\n",
       "      <td>11001126</td>\n",
       "      <td>Galerías</td>\n",
       "      <td>9,65233586315028</td>\n",
       "    </tr>\n",
       "    <tr>\n",
       "      <th>15957</th>\n",
       "      <td>342412.0</td>\n",
       "      <td>11</td>\n",
       "      <td>11001</td>\n",
       "      <td>1</td>\n",
       "      <td>19.0</td>\n",
       "      <td>Ciudad Bolívar</td>\n",
       "      <td>65.0</td>\n",
       "      <td>Arborizadora</td>\n",
       "      <td>11001104</td>\n",
       "      <td>Arborizadora</td>\n",
       "      <td>30,535793906882</td>\n",
       "    </tr>\n",
       "    <tr>\n",
       "      <th>53086</th>\n",
       "      <td>1050420.0</td>\n",
       "      <td>25</td>\n",
       "      <td>25430</td>\n",
       "      <td>1</td>\n",
       "      <td>NaN</td>\n",
       "      <td>NaN</td>\n",
       "      <td>NaN</td>\n",
       "      <td>NaN</td>\n",
       "      <td>25430100</td>\n",
       "      <td>Madrid cabecera</td>\n",
       "      <td>48,4041690334097</td>\n",
       "    </tr>\n",
       "    <tr>\n",
       "      <th>89051</th>\n",
       "      <td>1160691.0</td>\n",
       "      <td>11</td>\n",
       "      <td>11001</td>\n",
       "      <td>1</td>\n",
       "      <td>12.0</td>\n",
       "      <td>Barrios Unidos</td>\n",
       "      <td>21.0</td>\n",
       "      <td>Los Andes</td>\n",
       "      <td>11001143</td>\n",
       "      <td>Los Andes</td>\n",
       "      <td>8,94334543088424</td>\n",
       "    </tr>\n",
       "    <tr>\n",
       "      <th>61077</th>\n",
       "      <td>1099174.0</td>\n",
       "      <td>11</td>\n",
       "      <td>11001</td>\n",
       "      <td>3</td>\n",
       "      <td>11.0</td>\n",
       "      <td>Suba</td>\n",
       "      <td>NaN</td>\n",
       "      <td>NaN</td>\n",
       "      <td>11001211</td>\n",
       "      <td>Localidad Suba resto</td>\n",
       "      <td>2,92793408165098</td>\n",
       "    </tr>\n",
       "  </tbody>\n",
       "</table>\n",
       "</div>"
      ],
      "text/plain": [
       "        DIRECTORIO  DPTO   MPIO  CLASE  COD_LOCALIDAD NOMBRE_LOCALIDAD  \\\n",
       "105735   3003588.0    11  11001      1           13.0      Teusaquillo   \n",
       "15957     342412.0    11  11001      1           19.0   Ciudad Bolívar   \n",
       "53086    1050420.0    25  25430      1            NaN              NaN   \n",
       "89051    1160691.0    11  11001      1           12.0   Barrios Unidos   \n",
       "61077    1099174.0    11  11001      3           11.0             Suba   \n",
       "\n",
       "        COD_UPZ_GRUPO NOMBRE_UPZ_GRUPO  ESTRATO2021        NOMBRE_ESTRATO  \\\n",
       "105735          100.0         Galerías     11001126              Galerías   \n",
       "15957            65.0     Arborizadora     11001104          Arborizadora   \n",
       "53086             NaN              NaN     25430100       Madrid cabecera   \n",
       "89051            21.0        Los Andes     11001143             Los Andes   \n",
       "61077             NaN              NaN     11001211  Localidad Suba resto   \n",
       "\n",
       "                   FEX_C  \n",
       "105735  9,65233586315028  \n",
       "15957    30,535793906882  \n",
       "53086   48,4041690334097  \n",
       "89051   8,94334543088424  \n",
       "61077   2,92793408165098  "
      ]
     },
     "execution_count": 3,
     "metadata": {},
     "output_type": "execute_result"
    }
   ],
   "source": [
    "datos_raw = pd.read_csv('C:\\\\Users\\Omar\\Desktop\\INMERSION\\\\archivos_dane\\Identificacion.csv', sep=';', encoding='latin-1')\n",
    "datos_raw.sample(5)"
   ]
  },
  {
   "cell_type": "markdown",
   "metadata": {},
   "source": [
    "# cANTIDAD DE REGISTROS Y VARIABLES"
   ]
  },
  {
   "cell_type": "code",
   "execution_count": 4,
   "metadata": {
    "ExecuteTime": {
     "end_time": "2023-04-03T00:53:28.384314Z",
     "start_time": "2023-04-03T00:53:28.365521Z"
    }
   },
   "outputs": [
    {
     "data": {
      "text/plain": [
       "(106467, 11)"
      ]
     },
     "execution_count": 4,
     "metadata": {},
     "output_type": "execute_result"
    }
   ],
   "source": [
    "datos_raw.shape"
   ]
  },
  {
   "cell_type": "markdown",
   "metadata": {},
   "source": [
    "#SEPARO DATOS POR MUNICIPIOS"
   ]
  },
  {
   "cell_type": "code",
   "execution_count": 5,
   "metadata": {
    "ExecuteTime": {
     "end_time": "2023-04-03T00:53:28.531736Z",
     "start_time": "2023-04-03T00:53:28.382315Z"
    }
   },
   "outputs": [
    {
     "data": {
      "text/plain": [
       "array([11001, 25740, 25473, 25290, 25214, 25175, 25758, 25785, 25898,\n",
       "       25754, 25126, 25817, 25430, 25286, 25260, 25099, 25799, 25899,\n",
       "       25269, 25769, 25377, 25295], dtype=int64)"
      ]
     },
     "execution_count": 5,
     "metadata": {},
     "output_type": "execute_result"
    }
   ],
   "source": [
    "datos_raw['MPIO'].unique()"
   ]
  },
  {
   "cell_type": "markdown",
   "metadata": {},
   "source": [
    "# LIMPIO POR 11001"
   ]
  },
  {
   "cell_type": "code",
   "execution_count": 6,
   "metadata": {
    "ExecuteTime": {
     "end_time": "2023-04-03T00:53:28.613224Z",
     "start_time": "2023-04-03T00:53:28.415402Z"
    }
   },
   "outputs": [
    {
     "data": {
      "text/html": [
       "<div>\n",
       "<style scoped>\n",
       "    .dataframe tbody tr th:only-of-type {\n",
       "        vertical-align: middle;\n",
       "    }\n",
       "\n",
       "    .dataframe tbody tr th {\n",
       "        vertical-align: top;\n",
       "    }\n",
       "\n",
       "    .dataframe thead th {\n",
       "        text-align: right;\n",
       "    }\n",
       "</style>\n",
       "<table border=\"1\" class=\"dataframe\">\n",
       "  <thead>\n",
       "    <tr style=\"text-align: right;\">\n",
       "      <th></th>\n",
       "      <th>DIRECTORIO</th>\n",
       "      <th>DPTO</th>\n",
       "      <th>MPIO</th>\n",
       "      <th>CLASE</th>\n",
       "      <th>COD_LOCALIDAD</th>\n",
       "      <th>NOMBRE_LOCALIDAD</th>\n",
       "      <th>COD_UPZ_GRUPO</th>\n",
       "      <th>NOMBRE_UPZ_GRUPO</th>\n",
       "      <th>ESTRATO2021</th>\n",
       "      <th>NOMBRE_ESTRATO</th>\n",
       "      <th>FEX_C</th>\n",
       "    </tr>\n",
       "  </thead>\n",
       "  <tbody>\n",
       "    <tr>\n",
       "      <th>12598</th>\n",
       "      <td>338129.0</td>\n",
       "      <td>11</td>\n",
       "      <td>11001</td>\n",
       "      <td>1</td>\n",
       "      <td>4.0</td>\n",
       "      <td>San Cristóbal</td>\n",
       "      <td>34.0</td>\n",
       "      <td>20 de Julio</td>\n",
       "      <td>11001101</td>\n",
       "      <td>20 de Julio</td>\n",
       "      <td>29,9670630526627</td>\n",
       "    </tr>\n",
       "    <tr>\n",
       "      <th>52020</th>\n",
       "      <td>1045435.0</td>\n",
       "      <td>11</td>\n",
       "      <td>11001</td>\n",
       "      <td>1</td>\n",
       "      <td>11.0</td>\n",
       "      <td>Suba</td>\n",
       "      <td>19.0</td>\n",
       "      <td>El Prado</td>\n",
       "      <td>11001121</td>\n",
       "      <td>El Prado</td>\n",
       "      <td>44,71015577326</td>\n",
       "    </tr>\n",
       "    <tr>\n",
       "      <th>102167</th>\n",
       "      <td>2192979.0</td>\n",
       "      <td>11</td>\n",
       "      <td>11001</td>\n",
       "      <td>1</td>\n",
       "      <td>9.0</td>\n",
       "      <td>Fontibón</td>\n",
       "      <td>110.0</td>\n",
       "      <td>Ciudad Salitre Occidental</td>\n",
       "      <td>11001115</td>\n",
       "      <td>Ciudad Salitre Occidental</td>\n",
       "      <td>21,104787233542</td>\n",
       "    </tr>\n",
       "    <tr>\n",
       "      <th>105083</th>\n",
       "      <td>3002924.0</td>\n",
       "      <td>11</td>\n",
       "      <td>11001</td>\n",
       "      <td>1</td>\n",
       "      <td>2.0</td>\n",
       "      <td>Chapinero</td>\n",
       "      <td>817.0</td>\n",
       "      <td>CHAPINERO: Chicó Lago + El Refugio</td>\n",
       "      <td>11001190</td>\n",
       "      <td>CHAPINERO: Chicó Lago + El Refugio</td>\n",
       "      <td>26,6716576175365</td>\n",
       "    </tr>\n",
       "    <tr>\n",
       "      <th>15347</th>\n",
       "      <td>341673.0</td>\n",
       "      <td>11</td>\n",
       "      <td>11001</td>\n",
       "      <td>1</td>\n",
       "      <td>16.0</td>\n",
       "      <td>Puente Aranda</td>\n",
       "      <td>43.0</td>\n",
       "      <td>San Rafael</td>\n",
       "      <td>11001161</td>\n",
       "      <td>San Rafael</td>\n",
       "      <td>17,2338734995223</td>\n",
       "    </tr>\n",
       "  </tbody>\n",
       "</table>\n",
       "</div>"
      ],
      "text/plain": [
       "        DIRECTORIO  DPTO   MPIO  CLASE  COD_LOCALIDAD NOMBRE_LOCALIDAD  \\\n",
       "12598     338129.0    11  11001      1            4.0    San Cristóbal   \n",
       "52020    1045435.0    11  11001      1           11.0             Suba   \n",
       "102167   2192979.0    11  11001      1            9.0         Fontibón   \n",
       "105083   3002924.0    11  11001      1            2.0        Chapinero   \n",
       "15347     341673.0    11  11001      1           16.0    Puente Aranda   \n",
       "\n",
       "        COD_UPZ_GRUPO                    NOMBRE_UPZ_GRUPO  ESTRATO2021  \\\n",
       "12598            34.0                         20 de Julio     11001101   \n",
       "52020            19.0                            El Prado     11001121   \n",
       "102167          110.0           Ciudad Salitre Occidental     11001115   \n",
       "105083          817.0  CHAPINERO: Chicó Lago + El Refugio     11001190   \n",
       "15347            43.0                          San Rafael     11001161   \n",
       "\n",
       "                            NOMBRE_ESTRATO             FEX_C  \n",
       "12598                          20 de Julio  29,9670630526627  \n",
       "52020                             El Prado    44,71015577326  \n",
       "102167           Ciudad Salitre Occidental   21,104787233542  \n",
       "105083  CHAPINERO: Chicó Lago + El Refugio  26,6716576175365  \n",
       "15347                           San Rafael  17,2338734995223  "
      ]
     },
     "execution_count": 6,
     "metadata": {},
     "output_type": "execute_result"
    }
   ],
   "source": [
    "datos_raw = datos_raw[datos_raw['MPIO'] == 11001]\n",
    "datos_raw.sample(5)\n",
    "\n"
   ]
  },
  {
   "cell_type": "code",
   "execution_count": 7,
   "metadata": {
    "ExecuteTime": {
     "end_time": "2023-04-03T00:53:28.753137Z",
     "start_time": "2023-04-03T00:53:28.484768Z"
    }
   },
   "outputs": [
    {
     "data": {
      "text/html": [
       "<div>\n",
       "<style scoped>\n",
       "    .dataframe tbody tr th:only-of-type {\n",
       "        vertical-align: middle;\n",
       "    }\n",
       "\n",
       "    .dataframe tbody tr th {\n",
       "        vertical-align: top;\n",
       "    }\n",
       "\n",
       "    .dataframe thead th {\n",
       "        text-align: right;\n",
       "    }\n",
       "</style>\n",
       "<table border=\"1\" class=\"dataframe\">\n",
       "  <thead>\n",
       "    <tr style=\"text-align: right;\">\n",
       "      <th></th>\n",
       "      <th>DIRECTORIO</th>\n",
       "      <th>DPTO</th>\n",
       "      <th>MPIO</th>\n",
       "      <th>CLASE</th>\n",
       "      <th>COD_LOCALIDAD</th>\n",
       "      <th>NOMBRE_LOCALIDAD</th>\n",
       "      <th>COD_UPZ_GRUPO</th>\n",
       "      <th>NOMBRE_UPZ_GRUPO</th>\n",
       "      <th>ESTRATO2021</th>\n",
       "      <th>NOMBRE_ESTRATO</th>\n",
       "      <th>FEX_C</th>\n",
       "    </tr>\n",
       "  </thead>\n",
       "  <tbody>\n",
       "    <tr>\n",
       "      <th>11001</th>\n",
       "      <td>336131.0</td>\n",
       "      <td>11</td>\n",
       "      <td>11001</td>\n",
       "      <td>1</td>\n",
       "      <td>17.0</td>\n",
       "      <td>La Candelaria</td>\n",
       "      <td>94.0</td>\n",
       "      <td>La Candelaria</td>\n",
       "      <td>11001134</td>\n",
       "      <td>La Candelaria</td>\n",
       "      <td>5,81502917881008</td>\n",
       "    </tr>\n",
       "    <tr>\n",
       "      <th>11001</th>\n",
       "      <td>336131.0</td>\n",
       "      <td>11</td>\n",
       "      <td>11001</td>\n",
       "      <td>1</td>\n",
       "      <td>17.0</td>\n",
       "      <td>La Candelaria</td>\n",
       "      <td>94.0</td>\n",
       "      <td>La Candelaria</td>\n",
       "      <td>11001134</td>\n",
       "      <td>La Candelaria</td>\n",
       "      <td>5,81502917881008</td>\n",
       "    </tr>\n",
       "    <tr>\n",
       "      <th>11001</th>\n",
       "      <td>336131.0</td>\n",
       "      <td>11</td>\n",
       "      <td>11001</td>\n",
       "      <td>1</td>\n",
       "      <td>17.0</td>\n",
       "      <td>La Candelaria</td>\n",
       "      <td>94.0</td>\n",
       "      <td>La Candelaria</td>\n",
       "      <td>11001134</td>\n",
       "      <td>La Candelaria</td>\n",
       "      <td>5,81502917881008</td>\n",
       "    </tr>\n",
       "    <tr>\n",
       "      <th>11001</th>\n",
       "      <td>336131.0</td>\n",
       "      <td>11</td>\n",
       "      <td>11001</td>\n",
       "      <td>1</td>\n",
       "      <td>17.0</td>\n",
       "      <td>La Candelaria</td>\n",
       "      <td>94.0</td>\n",
       "      <td>La Candelaria</td>\n",
       "      <td>11001134</td>\n",
       "      <td>La Candelaria</td>\n",
       "      <td>5,81502917881008</td>\n",
       "    </tr>\n",
       "    <tr>\n",
       "      <th>11001</th>\n",
       "      <td>336131.0</td>\n",
       "      <td>11</td>\n",
       "      <td>11001</td>\n",
       "      <td>1</td>\n",
       "      <td>17.0</td>\n",
       "      <td>La Candelaria</td>\n",
       "      <td>94.0</td>\n",
       "      <td>La Candelaria</td>\n",
       "      <td>11001134</td>\n",
       "      <td>La Candelaria</td>\n",
       "      <td>5,81502917881008</td>\n",
       "    </tr>\n",
       "  </tbody>\n",
       "</table>\n",
       "</div>"
      ],
      "text/plain": [
       "       DIRECTORIO  DPTO   MPIO  CLASE  COD_LOCALIDAD NOMBRE_LOCALIDAD  \\\n",
       "11001    336131.0    11  11001      1           17.0    La Candelaria   \n",
       "11001    336131.0    11  11001      1           17.0    La Candelaria   \n",
       "11001    336131.0    11  11001      1           17.0    La Candelaria   \n",
       "11001    336131.0    11  11001      1           17.0    La Candelaria   \n",
       "11001    336131.0    11  11001      1           17.0    La Candelaria   \n",
       "\n",
       "       COD_UPZ_GRUPO NOMBRE_UPZ_GRUPO  ESTRATO2021 NOMBRE_ESTRATO  \\\n",
       "11001           94.0    La Candelaria     11001134  La Candelaria   \n",
       "11001           94.0    La Candelaria     11001134  La Candelaria   \n",
       "11001           94.0    La Candelaria     11001134  La Candelaria   \n",
       "11001           94.0    La Candelaria     11001134  La Candelaria   \n",
       "11001           94.0    La Candelaria     11001134  La Candelaria   \n",
       "\n",
       "                  FEX_C  \n",
       "11001  5,81502917881008  \n",
       "11001  5,81502917881008  \n",
       "11001  5,81502917881008  \n",
       "11001  5,81502917881008  \n",
       "11001  5,81502917881008  "
      ]
     },
     "execution_count": 7,
     "metadata": {},
     "output_type": "execute_result"
    }
   ],
   "source": [
    "datos_raw = datos_raw.loc[datos_raw.MPIO]\n",
    "datos_raw.sample(5)"
   ]
  },
  {
   "cell_type": "markdown",
   "metadata": {},
   "source": [
    "# CANTIDAD DE REGISTROS EN EL FILTRO"
   ]
  },
  {
   "cell_type": "code",
   "execution_count": 8,
   "metadata": {
    "ExecuteTime": {
     "end_time": "2023-04-03T00:53:28.754143Z",
     "start_time": "2023-04-03T00:53:28.544740Z"
    }
   },
   "outputs": [
    {
     "data": {
      "text/plain": [
       "(86504, 11)"
      ]
     },
     "execution_count": 8,
     "metadata": {},
     "output_type": "execute_result"
    }
   ],
   "source": [
    "datos_raw.shape"
   ]
  },
  {
   "cell_type": "markdown",
   "metadata": {},
   "source": [
    "# INGRESO NUEVAS TABLAS"
   ]
  },
  {
   "cell_type": "code",
   "execution_count": 9,
   "metadata": {
    "ExecuteTime": {
     "end_time": "2023-04-03T00:53:46.469297Z",
     "start_time": "2023-04-03T00:53:28.559268Z"
    }
   },
   "outputs": [
    {
     "name": "stderr",
     "output_type": "stream",
     "text": [
      "C:\\Users\\Omar\\AppData\\Local\\Temp\\ipykernel_1164\\2670107160.py:2: DtypeWarning: Columns (4,25,30,47) have mixed types. Specify dtype option on import or set low_memory=False.\n",
      "  datos_c = pd.read_csv('C:\\\\Users\\Omar\\Desktop\\INMERSION\\\\archivos_dane\\Condiciones habitacionales del hogar.csv', sep=';', encoding='latin-1')\n",
      "C:\\Users\\Omar\\AppData\\Local\\Temp\\ipykernel_1164\\2670107160.py:3: DtypeWarning: Columns (66) have mixed types. Specify dtype option on import or set low_memory=False.\n",
      "  datos_e = pd.read_csv('C:\\\\Users\\Omar\\Desktop\\INMERSION\\\\archivos_dane\\Composicion del hogar y demografia.csv', sep=';', encoding='latin-1')\n",
      "C:\\Users\\Omar\\AppData\\Local\\Temp\\ipykernel_1164\\2670107160.py:4: DtypeWarning: Columns (81) have mixed types. Specify dtype option on import or set low_memory=False.\n",
      "  datos_h = pd.read_csv('C:\\\\Users\\Omar\\Desktop\\INMERSION\\\\archivos_dane\\Educacion.csv', sep=';', encoding='latin-1')\n",
      "C:\\Users\\Omar\\AppData\\Local\\Temp\\ipykernel_1164\\2670107160.py:5: DtypeWarning: Columns (114,117,122,126,164,166,168) have mixed types. Specify dtype option on import or set low_memory=False.\n",
      "  datos_l = pd.read_csv('C:\\\\Users\\Omar\\Desktop\\INMERSION\\\\archivos_dane\\Percepcion sobre las condiciones de vida y el desempeño institucional.csv', sep=';', encoding='latin-1')\n",
      "C:\\Users\\Omar\\AppData\\Local\\Temp\\ipykernel_1164\\2670107160.py:6: DtypeWarning: Columns (27,58,60,62,64,66,104,114,120,124,126,129,131,133) have mixed types. Specify dtype option on import or set low_memory=False.\n",
      "  datos_k = pd.read_csv('C:\\\\Users\\Omar\\Desktop\\INMERSION\\\\archivos_dane\\Fuerza de trabajo.csv', sep=';', encoding='latin-1')\n"
     ]
    }
   ],
   "source": [
    "datos_b = pd.read_csv('C:\\\\Users\\Omar\\Desktop\\INMERSION\\\\archivos_dane\\Datos de la vivenda y su entorno.csv', sep=';', encoding='latin-1')\n",
    "datos_c = pd.read_csv('C:\\\\Users\\Omar\\Desktop\\INMERSION\\\\archivos_dane\\Condiciones habitacionales del hogar.csv', sep=';', encoding='latin-1')\n",
    "datos_e = pd.read_csv('C:\\\\Users\\Omar\\Desktop\\INMERSION\\\\archivos_dane\\Composicion del hogar y demografia.csv', sep=';', encoding='latin-1')\n",
    "datos_h = pd.read_csv('C:\\\\Users\\Omar\\Desktop\\INMERSION\\\\archivos_dane\\Educacion.csv', sep=';', encoding='latin-1')\n",
    "datos_l = pd.read_csv('C:\\\\Users\\Omar\\Desktop\\INMERSION\\\\archivos_dane\\Percepcion sobre las condiciones de vida y el desempeño institucional.csv', sep=';', encoding='latin-1')\n",
    "datos_k = pd.read_csv('C:\\\\Users\\Omar\\Desktop\\INMERSION\\\\archivos_dane\\Fuerza de trabajo.csv', sep=';', encoding='latin-1')"
   ]
  },
  {
   "cell_type": "markdown",
   "metadata": {},
   "source": [
    "# CREAR UNA VARIABLES DATOS_DANE QUE REALICE MERGE DE TODAS LAS TABLAS"
   ]
  },
  {
   "cell_type": "code",
   "execution_count": 10,
   "metadata": {
    "ExecuteTime": {
     "end_time": "2023-04-03T00:53:46.691286Z",
     "start_time": "2023-04-03T00:53:46.501276Z"
    }
   },
   "outputs": [
    {
     "data": {
      "text/html": [
       "<div>\n",
       "<style scoped>\n",
       "    .dataframe tbody tr th:only-of-type {\n",
       "        vertical-align: middle;\n",
       "    }\n",
       "\n",
       "    .dataframe tbody tr th {\n",
       "        vertical-align: top;\n",
       "    }\n",
       "\n",
       "    .dataframe thead th {\n",
       "        text-align: right;\n",
       "    }\n",
       "</style>\n",
       "<table border=\"1\" class=\"dataframe\">\n",
       "  <thead>\n",
       "    <tr style=\"text-align: right;\">\n",
       "      <th></th>\n",
       "      <th>DIRECTORIO</th>\n",
       "      <th>DPTO</th>\n",
       "      <th>MPIO</th>\n",
       "      <th>CLASE</th>\n",
       "      <th>COD_LOCALIDAD</th>\n",
       "      <th>NOMBRE_LOCALIDAD</th>\n",
       "      <th>COD_UPZ_GRUPO</th>\n",
       "      <th>NOMBRE_UPZ_GRUPO</th>\n",
       "      <th>ESTRATO2021</th>\n",
       "      <th>NOMBRE_ESTRATO</th>\n",
       "      <th>FEX_C</th>\n",
       "    </tr>\n",
       "  </thead>\n",
       "  <tbody>\n",
       "    <tr>\n",
       "      <th>11001</th>\n",
       "      <td>336131.0</td>\n",
       "      <td>11</td>\n",
       "      <td>11001</td>\n",
       "      <td>1</td>\n",
       "      <td>17.0</td>\n",
       "      <td>La Candelaria</td>\n",
       "      <td>94.0</td>\n",
       "      <td>La Candelaria</td>\n",
       "      <td>11001134</td>\n",
       "      <td>La Candelaria</td>\n",
       "      <td>5,81502917881008</td>\n",
       "    </tr>\n",
       "    <tr>\n",
       "      <th>11001</th>\n",
       "      <td>336131.0</td>\n",
       "      <td>11</td>\n",
       "      <td>11001</td>\n",
       "      <td>1</td>\n",
       "      <td>17.0</td>\n",
       "      <td>La Candelaria</td>\n",
       "      <td>94.0</td>\n",
       "      <td>La Candelaria</td>\n",
       "      <td>11001134</td>\n",
       "      <td>La Candelaria</td>\n",
       "      <td>5,81502917881008</td>\n",
       "    </tr>\n",
       "    <tr>\n",
       "      <th>11001</th>\n",
       "      <td>336131.0</td>\n",
       "      <td>11</td>\n",
       "      <td>11001</td>\n",
       "      <td>1</td>\n",
       "      <td>17.0</td>\n",
       "      <td>La Candelaria</td>\n",
       "      <td>94.0</td>\n",
       "      <td>La Candelaria</td>\n",
       "      <td>11001134</td>\n",
       "      <td>La Candelaria</td>\n",
       "      <td>5,81502917881008</td>\n",
       "    </tr>\n",
       "    <tr>\n",
       "      <th>11001</th>\n",
       "      <td>336131.0</td>\n",
       "      <td>11</td>\n",
       "      <td>11001</td>\n",
       "      <td>1</td>\n",
       "      <td>17.0</td>\n",
       "      <td>La Candelaria</td>\n",
       "      <td>94.0</td>\n",
       "      <td>La Candelaria</td>\n",
       "      <td>11001134</td>\n",
       "      <td>La Candelaria</td>\n",
       "      <td>5,81502917881008</td>\n",
       "    </tr>\n",
       "    <tr>\n",
       "      <th>11001</th>\n",
       "      <td>336131.0</td>\n",
       "      <td>11</td>\n",
       "      <td>11001</td>\n",
       "      <td>1</td>\n",
       "      <td>17.0</td>\n",
       "      <td>La Candelaria</td>\n",
       "      <td>94.0</td>\n",
       "      <td>La Candelaria</td>\n",
       "      <td>11001134</td>\n",
       "      <td>La Candelaria</td>\n",
       "      <td>5,81502917881008</td>\n",
       "    </tr>\n",
       "    <tr>\n",
       "      <th>...</th>\n",
       "      <td>...</td>\n",
       "      <td>...</td>\n",
       "      <td>...</td>\n",
       "      <td>...</td>\n",
       "      <td>...</td>\n",
       "      <td>...</td>\n",
       "      <td>...</td>\n",
       "      <td>...</td>\n",
       "      <td>...</td>\n",
       "      <td>...</td>\n",
       "      <td>...</td>\n",
       "    </tr>\n",
       "    <tr>\n",
       "      <th>11001</th>\n",
       "      <td>336131.0</td>\n",
       "      <td>11</td>\n",
       "      <td>11001</td>\n",
       "      <td>1</td>\n",
       "      <td>17.0</td>\n",
       "      <td>La Candelaria</td>\n",
       "      <td>94.0</td>\n",
       "      <td>La Candelaria</td>\n",
       "      <td>11001134</td>\n",
       "      <td>La Candelaria</td>\n",
       "      <td>5,81502917881008</td>\n",
       "    </tr>\n",
       "    <tr>\n",
       "      <th>11001</th>\n",
       "      <td>336131.0</td>\n",
       "      <td>11</td>\n",
       "      <td>11001</td>\n",
       "      <td>1</td>\n",
       "      <td>17.0</td>\n",
       "      <td>La Candelaria</td>\n",
       "      <td>94.0</td>\n",
       "      <td>La Candelaria</td>\n",
       "      <td>11001134</td>\n",
       "      <td>La Candelaria</td>\n",
       "      <td>5,81502917881008</td>\n",
       "    </tr>\n",
       "    <tr>\n",
       "      <th>11001</th>\n",
       "      <td>336131.0</td>\n",
       "      <td>11</td>\n",
       "      <td>11001</td>\n",
       "      <td>1</td>\n",
       "      <td>17.0</td>\n",
       "      <td>La Candelaria</td>\n",
       "      <td>94.0</td>\n",
       "      <td>La Candelaria</td>\n",
       "      <td>11001134</td>\n",
       "      <td>La Candelaria</td>\n",
       "      <td>5,81502917881008</td>\n",
       "    </tr>\n",
       "    <tr>\n",
       "      <th>11001</th>\n",
       "      <td>336131.0</td>\n",
       "      <td>11</td>\n",
       "      <td>11001</td>\n",
       "      <td>1</td>\n",
       "      <td>17.0</td>\n",
       "      <td>La Candelaria</td>\n",
       "      <td>94.0</td>\n",
       "      <td>La Candelaria</td>\n",
       "      <td>11001134</td>\n",
       "      <td>La Candelaria</td>\n",
       "      <td>5,81502917881008</td>\n",
       "    </tr>\n",
       "    <tr>\n",
       "      <th>11001</th>\n",
       "      <td>336131.0</td>\n",
       "      <td>11</td>\n",
       "      <td>11001</td>\n",
       "      <td>1</td>\n",
       "      <td>17.0</td>\n",
       "      <td>La Candelaria</td>\n",
       "      <td>94.0</td>\n",
       "      <td>La Candelaria</td>\n",
       "      <td>11001134</td>\n",
       "      <td>La Candelaria</td>\n",
       "      <td>5,81502917881008</td>\n",
       "    </tr>\n",
       "  </tbody>\n",
       "</table>\n",
       "<p>86504 rows × 11 columns</p>\n",
       "</div>"
      ],
      "text/plain": [
       "       DIRECTORIO  DPTO   MPIO  CLASE  COD_LOCALIDAD NOMBRE_LOCALIDAD  \\\n",
       "11001    336131.0    11  11001      1           17.0    La Candelaria   \n",
       "11001    336131.0    11  11001      1           17.0    La Candelaria   \n",
       "11001    336131.0    11  11001      1           17.0    La Candelaria   \n",
       "11001    336131.0    11  11001      1           17.0    La Candelaria   \n",
       "11001    336131.0    11  11001      1           17.0    La Candelaria   \n",
       "...           ...   ...    ...    ...            ...              ...   \n",
       "11001    336131.0    11  11001      1           17.0    La Candelaria   \n",
       "11001    336131.0    11  11001      1           17.0    La Candelaria   \n",
       "11001    336131.0    11  11001      1           17.0    La Candelaria   \n",
       "11001    336131.0    11  11001      1           17.0    La Candelaria   \n",
       "11001    336131.0    11  11001      1           17.0    La Candelaria   \n",
       "\n",
       "       COD_UPZ_GRUPO NOMBRE_UPZ_GRUPO  ESTRATO2021 NOMBRE_ESTRATO  \\\n",
       "11001           94.0    La Candelaria     11001134  La Candelaria   \n",
       "11001           94.0    La Candelaria     11001134  La Candelaria   \n",
       "11001           94.0    La Candelaria     11001134  La Candelaria   \n",
       "11001           94.0    La Candelaria     11001134  La Candelaria   \n",
       "11001           94.0    La Candelaria     11001134  La Candelaria   \n",
       "...              ...              ...          ...            ...   \n",
       "11001           94.0    La Candelaria     11001134  La Candelaria   \n",
       "11001           94.0    La Candelaria     11001134  La Candelaria   \n",
       "11001           94.0    La Candelaria     11001134  La Candelaria   \n",
       "11001           94.0    La Candelaria     11001134  La Candelaria   \n",
       "11001           94.0    La Candelaria     11001134  La Candelaria   \n",
       "\n",
       "                  FEX_C  \n",
       "11001  5,81502917881008  \n",
       "11001  5,81502917881008  \n",
       "11001  5,81502917881008  \n",
       "11001  5,81502917881008  \n",
       "11001  5,81502917881008  \n",
       "...                 ...  \n",
       "11001  5,81502917881008  \n",
       "11001  5,81502917881008  \n",
       "11001  5,81502917881008  \n",
       "11001  5,81502917881008  \n",
       "11001  5,81502917881008  \n",
       "\n",
       "[86504 rows x 11 columns]"
      ]
     },
     "execution_count": 10,
     "metadata": {},
     "output_type": "execute_result"
    }
   ],
   "source": [
    "datos_raw"
   ]
  },
  {
   "cell_type": "code",
   "execution_count": 11,
   "metadata": {
    "ExecuteTime": {
     "end_time": "2023-04-03T00:53:47.566221Z",
     "start_time": "2023-04-03T00:53:46.695284Z"
    }
   },
   "outputs": [
    {
     "data": {
      "text/plain": [
       "(86504, 73)"
      ]
     },
     "execution_count": 11,
     "metadata": {},
     "output_type": "execute_result"
    }
   ],
   "source": [
    "\n",
    "datos_dane = pd.merge(datos_raw, datos_b, on='DIRECTORIO', how='left')\n",
    "datos_dane.shape"
   ]
  },
  {
   "cell_type": "markdown",
   "metadata": {},
   "source": [
    "# CREAR UNA VARIABLES DATOS_DANE QUE REALICE MERGE DE TODAS LAS TABLAS - left join(sql)"
   ]
  },
  {
   "cell_type": "code",
   "execution_count": 13,
   "metadata": {
    "ExecuteTime": {
     "end_time": "2023-04-03T00:53:48.591623Z",
     "start_time": "2023-04-03T00:53:47.573217Z"
    }
   },
   "outputs": [
    {
     "name": "stderr",
     "output_type": "stream",
     "text": [
      "C:\\Users\\Omar\\AppData\\Local\\Temp\\ipykernel_1164\\613435801.py:1: FutureWarning: Passing 'suffixes' which cause duplicate columns {'FEX_C_x'} in the result is deprecated and will raise a MergeError in a future version.\n",
      "  datos_dane = pd.merge(datos_dane, datos_c, on='DIRECTORIO', how='left')\n"
     ]
    },
    {
     "data": {
      "text/plain": [
       "(86504, 355)"
      ]
     },
     "execution_count": 13,
     "metadata": {},
     "output_type": "execute_result"
    }
   ],
   "source": [
    "datos_dane = pd.merge(datos_dane, datos_c, on='DIRECTORIO', how='left')\n",
    "datos_dane.shape"
   ]
  },
  {
   "cell_type": "markdown",
   "metadata": {},
   "source": [
    "# RETO 1 - DAR UNA MIRADA A LAS VARIABLES\n",
    "RETO 2 - ORGANIZAR PARA QUE QUEDE MEJOR PRESENTADO VIZUALIZACION Y PRESENTACION DE DATOS"
   ]
  }
 ],
 "metadata": {
  "kernelspec": {
   "display_name": "Python 3 (ipykernel)",
   "language": "python",
   "name": "python3"
  },
  "language_info": {
   "codemirror_mode": {
    "name": "ipython",
    "version": 3
   },
   "file_extension": ".py",
   "mimetype": "text/x-python",
   "name": "python",
   "nbconvert_exporter": "python",
   "pygments_lexer": "ipython3",
   "version": "3.11.2"
  }
 },
 "nbformat": 4,
 "nbformat_minor": 1
}
